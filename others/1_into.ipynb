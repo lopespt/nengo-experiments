{
 "cells": [
  {
   "cell_type": "markdown",
   "metadata": {
    "deletable": true,
    "editable": true,
    "slideshow": {
     "slide_type": "slide"
    }
   },
   "source": [
    "### Neal Caren  \n",
    "Department of Sociology  \n",
    "University of North Carolina,  Chapel Hill  \n",
    "neal.caren@gmail.com  \n",
    "@haphazardsoc  \n",
    "\n",
    "\n",
    "Code available from  \n",
    "http://nealcaren.github.io/workshop_2014/\n",
    "\n",
    "Please make sure you have a copy of IPython up and running, ideally from Anacodna.\n",
    "\n",
    "If you are bored, download the zip file, unzip it, and open up an `IPython Notebook`.\n",
    "\n",
    "If you are still bored, sign up at the [New York Times](http://developer.nytimes.com) to be a developer."
   ]
  },
  {
   "cell_type": "markdown",
   "metadata": {
    "deletable": true,
    "editable": true,
    "slideshow": {
     "slide_type": "slide"
    }
   },
   "source": [
    "### Two overlapping projects\n",
    "\n",
    "\n",
    "1. Collecting text and non-text data from the web.\n",
    "    a. Sometimes they want to give it to you (APIs)\n",
    "    b. Sometimes they don't (HTML scraping)"
   ]
  },
  {
   "cell_type": "markdown",
   "metadata": {
    "deletable": true,
    "editable": true,
    "slideshow": {
     "slide_type": "slide"
    }
   },
   "source": [
    "Yelp can tell us how SES structures food options.\n",
    "\n",
    "![](https://raw.github.com/nealcaren/workshop_2014/master/notebooks/images/high_ses.png) ![](https://raw.github.com/nealcaren/workshop_2014/master/notebooks/images/mid_ses.png) ![](https://raw.github.com/nealcaren/workshop_2014/master/notebooks/images/low_ses.png)"
   ]
  },
  {
   "cell_type": "markdown",
   "metadata": {
    "deletable": true,
    "editable": true,
    "slideshow": {
     "slide_type": "slide"
    }
   },
   "source": [
    "Or map who supports secession\n",
    "\n",
    "![](http://nealcaren.github.io/workshop_2014/files/petitions.png)"
   ]
  },
  {
   "cell_type": "markdown",
   "metadata": {
    "deletable": true,
    "editable": true,
    "slideshow": {
     "slide_type": "slide"
    }
   },
   "source": [
    "### Two overlapping projects\n",
    "\n",
    "\n",
    "1. Collecting text and non-text data from the web.\n",
    "    a. Sometimes they want to give it to you (APIs)\n",
    "    b. Sometimes they don't (HTML scraping)\n",
    "2. Analyze text data, that may or may not have been downloaded."
   ]
  },
  {
   "cell_type": "markdown",
   "metadata": {
    "deletable": true,
    "editable": true,
    "slideshow": {
     "slide_type": "slide"
    }
   },
   "source": [
    "Trends in Tea Party Coverage\n",
    "\n",
    "![](https://raw.github.com/nealcaren/workshop_2014/master/notebooks/images/tpm_lda.png)"
   ]
  },
  {
   "cell_type": "markdown",
   "metadata": {
    "deletable": true,
    "editable": true,
    "slideshow": {
     "slide_type": "slide"
    }
   },
   "source": [
    "What were Occupy supporters doing on Facebook?  \n",
    "![](https://raw.github.com/nealcaren/workshop_2014/master/notebooks/images/occupy.png)\n"
   ]
  },
  {
   "cell_type": "markdown",
   "metadata": {
    "deletable": true,
    "editable": true,
    "slideshow": {
     "slide_type": "slide"
    }
   },
   "source": [
    "How the New York Times writes about and women\n",
    "\n",
    "![](https://raw.github.com/nealcaren/workshop_2014/master/notebooks/images/times_female.png)\n",
    "![](https://raw.github.com/nealcaren/workshop_2014/master/notebooks/images/times_male.png)\n"
   ]
  },
  {
   "cell_type": "markdown",
   "metadata": {
    "deletable": true,
    "editable": true
   },
   "source": []
  },
  {
   "cell_type": "markdown",
   "metadata": {
    "deletable": true,
    "editable": true,
    "slideshow": {
     "slide_type": "slide"
    }
   },
   "source": [
    "### Goals for today\n",
    "\n",
    "Understand text collection and analysis in Python"
   ]
  },
  {
   "cell_type": "markdown",
   "metadata": {
    "deletable": true,
    "editable": true,
    "slideshow": {
     "slide_type": "fragment"
    }
   },
   "source": [
    "(well enough so that you can Google your problems, find the answer, and implement it.)"
   ]
  },
  {
   "cell_type": "markdown",
   "metadata": {
    "deletable": true,
    "editable": true,
    "slideshow": {
     "slide_type": "fragment"
    }
   },
   "source": [
    "Have you start thinking about what theoretical puzzles these methods can help you answer"
   ]
  },
  {
   "cell_type": "markdown",
   "metadata": {
    "deletable": true,
    "editable": true,
    "slideshow": {
     "slide_type": "fragment"
    }
   },
   "source": [
    "#### The fear:\n",
    "Computational Social Scientist:  \n",
    "- Someone who knows less theory than a sociologist and less programming than a computer scientist."
   ]
  },
  {
   "cell_type": "markdown",
   "metadata": {
    "deletable": true,
    "editable": true,
    "slideshow": {
     "slide_type": "slide"
    }
   },
   "source": [
    "#### More specifically\n",
    "\n",
    "1. Up and running with IPython (1_Into)\n",
    "2. Understand a basic workflow (2_Twitter)\n",
    "3. Basics of Python and sentiment analysis (3_Sentiment)\n",
    "4. Collecting data from a website (4_Upworthy)\n",
    "5. Collecting data from an API (5_Times)\n",
    "6. Basic text ML with scikit-learn (6_classification)"
   ]
  },
  {
   "cell_type": "markdown",
   "metadata": {
    "deletable": true,
    "editable": true,
    "slideshow": {
     "slide_type": "slide"
    }
   },
   "source": [
    "#### Why Python"
   ]
  },
  {
   "cell_type": "markdown",
   "metadata": {
    "deletable": true,
    "editable": true,
    "slideshow": {
     "slide_type": "fragment"
    }
   },
   "source": [
    "![](https://raw.github.com/nealcaren/workshop_2014/master/notebooks/images/stanford.png)"
   ]
  },
  {
   "cell_type": "markdown",
   "metadata": {
    "deletable": true,
    "editable": true,
    "slideshow": {
     "slide_type": "slide"
    }
   },
   "source": [
    "#### Setup\n",
    "\n",
    "On your computer\n",
    "\n",
    "* [Anaconda](https://store.continuum.io/cshop/anaconda/)\n",
    "* [Enthought](https://www.enthought.com/products/epd/)\n",
    "* [Python](http://www.python.org)\n"
   ]
  },
  {
   "cell_type": "markdown",
   "metadata": {
    "deletable": true,
    "editable": true,
    "slideshow": {
     "slide_type": "fragment"
    }
   },
   "source": [
    "On the internet\n",
    "\n",
    "* [Wakari](https://wakari.io)"
   ]
  },
  {
   "cell_type": "markdown",
   "metadata": {
    "deletable": true,
    "editable": true,
    "slideshow": {
     "slide_type": "slide"
    }
   },
   "source": [
    "#### Slides and Code for Today\n",
    "\n",
    "Links to get them on the internet"
   ]
  },
  {
   "cell_type": "markdown",
   "metadata": {
    "deletable": true,
    "editable": true,
    "slideshow": {
     "slide_type": "slide"
    }
   },
   "source": [
    "#### Getting yourself setup\n",
    "\n",
    "On a Mac\n",
    "\n",
    "![](https://raw.github.com/nealcaren/workshop_2014/master/notebooks/images/on_a_mac.png)"
   ]
  },
  {
   "cell_type": "markdown",
   "metadata": {
    "deletable": true,
    "editable": true,
    "slideshow": {
     "slide_type": "slide"
    }
   },
   "source": [
    "On Windows\n",
    "\n",
    "![](https://raw.github.com/nealcaren/workshop_2014/master/notebooks/images/windows.png)"
   ]
  },
  {
   "cell_type": "markdown",
   "metadata": {
    "deletable": true,
    "editable": true,
    "slideshow": {
     "slide_type": "slide"
    }
   },
   "source": [
    "#### Ipython Notebooks are what all the cool kids use.\n",
    "\n",
    "![](https://raw.github.com/nealcaren/workshop_2014/master/notebooks/images/first_screen.png)"
   ]
  },
  {
   "cell_type": "markdown",
   "metadata": {
    "deletable": true,
    "editable": true,
    "slideshow": {
     "slide_type": "slide"
    }
   },
   "source": [
    "#### A new notebook\n",
    "\n",
    "![](https://raw.github.com/nealcaren/workshop_2014/master/notebooks/images/blank.png)"
   ]
  },
  {
   "cell_type": "markdown",
   "metadata": {
    "deletable": true,
    "editable": true,
    "slideshow": {
     "slide_type": "slide"
    }
   },
   "source": [
    "Cells can be Markdown (like this one) or code\n",
    "\n",
    "![](https://raw.github.com/nealcaren/workshop_2014/master/notebooks/images/cell_types.png)"
   ]
  },
  {
   "cell_type": "markdown",
   "metadata": {
    "deletable": true,
    "editable": true,
    "slideshow": {
     "slide_type": "slide"
    }
   },
   "source": [
    "#### To start off with\n",
    "\n",
    "Make sure you hit `Shift-Enter` or `Ctrl-Enter` when you are done."
   ]
  },
  {
   "cell_type": "code",
   "execution_count": 3,
   "metadata": {
    "collapsed": false,
    "deletable": true,
    "editable": true
   },
   "outputs": [
    {
     "data": {
      "text/plain": [
       "4"
      ]
     },
     "execution_count": 3,
     "metadata": {},
     "output_type": "execute_result"
    }
   ],
   "source": [
    "2 + 2"
   ]
  },
  {
   "cell_type": "markdown",
   "metadata": {
    "deletable": true,
    "editable": true,
    "slideshow": {
     "slide_type": "slide"
    }
   },
   "source": [
    "#### Frequently used Python Packages\n",
    "\n",
    "Data aquisition\n",
    "\n",
    "* [requests](http://docs.python-requests.org/en/latest/) Web scraping\n",
    "* [mechanize](http://wwwsearch.sourceforge.net/mechanize/) Web scraping\n",
    "* [BeautifulSoup](http://www.crummy.com/software/BeautifulSoup/) HTML cleaning\n",
    "* [Tweepy](http://tweepy.github.io) Access to Twitter API\n",
    "* [Marvel Comics](http://developer.marvel.com) Access to Marvel Universe\n",
    "* [database](https://dataset.readthedocs.org/en/latest/) Relational database/SQL\n",
    "\n"
   ]
  },
  {
   "cell_type": "markdown",
   "metadata": {
    "deletable": true,
    "editable": true,
    "slideshow": {
     "slide_type": "fragment"
    }
   },
   "source": [
    "Analysis\n",
    "\n",
    "* [NLTK](http://nltk.org) Natural Language Toolkit. There's a [book](http://nltk.org/book/)\n",
    "* [scikit-learn](http://scikit-learn.org/stable/) Machine learning\n",
    "* [pandas](http://pandas.pydata.org) Data management and analysis. There is a book.\n",
    "* [gensim](http://radimrehurek.com/gensim/) Topic modeling\n",
    "* [NetworkX](http://networkx.github.io) Network analysis\n",
    "* [matplotlib](http://matplotlib.org) Plotting* [NumPy](http://www.numpy.org) and [scipy](http://scipy.org) Computational backbone\n",
    "* [rpy](http://rpy.sourceforge.net) Python bindings for R\n"
   ]
  }
 ],
 "metadata": {
  "kernelspec": {
   "display_name": "Python 3",
   "language": "python",
   "name": "python3"
  },
  "language_info": {
   "codemirror_mode": {
    "name": "ipython",
    "version": 3
   },
   "file_extension": ".py",
   "mimetype": "text/x-python",
   "name": "python",
   "nbconvert_exporter": "python",
   "pygments_lexer": "ipython3",
   "version": "3.6.1"
  }
 },
 "nbformat": 4,
 "nbformat_minor": 0
}
